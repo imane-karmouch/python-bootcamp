{
 "cells": [
  {
   "cell_type": "markdown",
   "id": "ba2f3067",
   "metadata": {},
   "source": [
    "<h1 align=\"center\">Python performance exercises</h1>"
   ]
  },
  {
   "cell_type": "markdown",
   "id": "d6ed49f0",
   "metadata": {},
   "source": [
    "## Python best practices exercises"
   ]
  },
  {
   "cell_type": "markdown",
   "id": "1aacffe2",
   "metadata": {},
   "source": [
    "### Exercise 1\n",
    "\n",
    "considering the following function for concatenating list strings with deliter."
   ]
  },
  {
   "cell_type": "code",
   "execution_count": 111,
   "id": "d7e6ce27",
   "metadata": {},
   "outputs": [],
   "source": [
    "def ft_concatenate(l_strings, d):\n",
    "    \"\"\"concatenate list of strings into one string separated by delimeter\"\"\"\n",
    "    res = l_strings[0]\n",
    "    for e in l_strings[1:]:\n",
    "        res = res + d + e\n",
    "    return res"
   ]
  },
  {
   "cell_type": "code",
   "execution_count": 113,
   "id": "52ffacd0",
   "metadata": {},
   "outputs": [
    {
     "name": "stdout",
     "output_type": "stream",
     "text": [
      "The line_profiler extension is already loaded. To reload it, use:\n",
      "  %reload_ext line_profiler\n"
     ]
    }
   ],
   "source": [
    "%load_ext line_profiler\n",
    "\n",
    "d = \"/\"\n",
    "lstring = [\"Hello\",\"World\"]\n",
    "%lprun -f ft_concatenate ft_concatenate(lstring,d)"
   ]
  },
  {
   "cell_type": "code",
   "execution_count": 117,
   "id": "ba3ebcfa",
   "metadata": {},
   "outputs": [],
   "source": [
    "d = \"/\"\n",
    "lstring = [\"Hello\",\"World\"]\n",
    "def ft_concatenate2(l_strings, d):\n",
    "    \"\"\"concatenate list of strings into one string separated by delimeter\"\"\"\n",
    "    res = d.join(l_strings)\n",
    "    return res\n",
    "\n",
    "%lprun -f ft_concatenate2 ft_concatenate2(lstring,d)"
   ]
  },
  {
   "cell_type": "code",
   "execution_count": 119,
   "id": "8134d825",
   "metadata": {},
   "outputs": [
    {
     "name": "stdout",
     "output_type": "stream",
     "text": [
      "20.4 ns ± 1.4 ns per loop (mean ± std. dev. of 7 runs, 100000000 loops each)\n"
     ]
    }
   ],
   "source": [
    "%timeit ft_concatenate2"
   ]
  },
  {
   "cell_type": "markdown",
   "id": "23986419",
   "metadata": {},
   "source": [
    "- profile the function and identify the bottlenecks.\n",
    "- improve speed up of the function\n",
    "*Hint: you may need to look to the string functions in python documentation*"
   ]
  },
  {
   "cell_type": "code",
   "execution_count": 71,
   "id": "e1a99397",
   "metadata": {},
   "outputs": [
    {
     "name": "stdout",
     "output_type": "stream",
     "text": [
      "The cython extension is already loaded. To reload it, use:\n",
      "  %reload_ext cython\n"
     ]
    }
   ],
   "source": [
    "%load_ext cython"
   ]
  },
  {
   "cell_type": "code",
   "execution_count": 72,
   "id": "2b3901aa",
   "metadata": {},
   "outputs": [],
   "source": [
    "%%cython\n",
    "cpdef str ft_concatenate_cy(str l_strings, str d):\n",
    "    cdef str res = l_strings[0]\n",
    "    cdef str e\n",
    "    for e in l_strings[1:]:\n",
    "        res = res + d + e\n",
    "    return res\n"
   ]
  },
  {
   "cell_type": "code",
   "execution_count": 73,
   "id": "1d5b33a2",
   "metadata": {},
   "outputs": [
    {
     "name": "stdout",
     "output_type": "stream",
     "text": [
      "545 ns ± 98.1 ns per loop (mean ± std. dev. of 7 runs, 1000000 loops each)\n",
      "412 ns ± 16.5 ns per loop (mean ± std. dev. of 7 runs, 1000000 loops each)\n"
     ]
    }
   ],
   "source": [
    "%timeit ft_concatenate('imane','//')\n",
    "%timeit ft_concatenate_cy('imane','//')"
   ]
  },
  {
   "cell_type": "markdown",
   "id": "d8b7b48f",
   "metadata": {},
   "source": [
    "### Exercise 2\n",
    "\n",
    "In this exercise you will solve the following problem using two methods bruteforce mehode, and fast method.\n",
    "\n",
    "**Problem:** You are given a list of n integers, and your task is to calculate the number of distinct values in the list.\n",
    "\n",
    "**Example**\n",
    "- Input:\n",
    "5\n",
    "2 3 2 2 3\n",
    "\n",
    "- Output:\n",
    "2\n",
    "\n",
    "**Implement the following methodes:**\n",
    "\n",
    "1. **bruteforce mehode:** create an empty list and start adding items for the given list without adding the previous item add, at the end the result list will contain unique values, print lenght of the list and you are done. \n",
    "2. **fast method** think of using Set data structure.\n",
    "\n",
    "- time the two methods, what do you think?"
   ]
  },
  {
   "cell_type": "code",
   "execution_count": 87,
   "id": "45fbccea",
   "metadata": {},
   "outputs": [],
   "source": [
    "# bruteforce fast method\n",
    "def bruteforce_m(L):\n",
    "    n=len(L)\n",
    "    S=[]\n",
    "    for i in range(n):\n",
    "            if(L[i] not in S):\n",
    "                S.append(L[i])\n",
    "    return len(S)"
   ]
  },
  {
   "cell_type": "code",
   "execution_count": 88,
   "id": "d6020765",
   "metadata": {},
   "outputs": [],
   "source": [
    "# write fast method\n",
    "def fast_method(L):\n",
    "    L=dict.fromkeys(L)\n",
    "    return len(L)"
   ]
  },
  {
   "cell_type": "code",
   "execution_count": 89,
   "id": "27540ed6",
   "metadata": {},
   "outputs": [
    {
     "name": "stdout",
     "output_type": "stream",
     "text": [
      "951 ns ± 64.2 ns per loop (mean ± std. dev. of 7 runs, 1000000 loops each)\n",
      "409 ns ± 30 ns per loop (mean ± std. dev. of 7 runs, 1000000 loops each)\n"
     ]
    }
   ],
   "source": [
    "# Creat two random lists of numbers for testing\n",
    "import random\n",
    "s= random.sample(range(1, 30), 5)\n",
    "f= random.sample(range(1, 30), 5)\n",
    "# time the two methods\n",
    "%timeit bruteforce_m(s)\n",
    "%timeit fast_method(f)"
   ]
  },
  {
   "cell_type": "markdown",
   "id": "a73aed1a",
   "metadata": {},
   "source": [
    "## Cython exercises"
   ]
  },
  {
   "cell_type": "markdown",
   "id": "9267b4de",
   "metadata": {},
   "source": [
    "### Exercise 1"
   ]
  },
  {
   "cell_type": "markdown",
   "id": "2300bf1d",
   "metadata": {},
   "source": [
    "1. load the cython extension."
   ]
  },
  {
   "cell_type": "code",
   "execution_count": 50,
   "id": "bd261f69",
   "metadata": {},
   "outputs": [
    {
     "name": "stdout",
     "output_type": "stream",
     "text": [
      "The cython extension is already loaded. To reload it, use:\n",
      "  %reload_ext cython\n"
     ]
    }
   ],
   "source": [
    "%load_ext cython"
   ]
  },
  {
   "cell_type": "markdown",
   "id": "25567fe9",
   "metadata": {},
   "source": [
    "2. Condidering the following polynome function:"
   ]
  },
  {
   "cell_type": "code",
   "execution_count": 76,
   "id": "935d9306",
   "metadata": {},
   "outputs": [],
   "source": [
    "def poly(a,b):\n",
    "    return 10.5 * a + 3 * (b**2)"
   ]
  },
  {
   "cell_type": "markdown",
   "id": "28b0dee9",
   "metadata": {},
   "source": [
    "- Create an equivalent Cython function of `poly` with name `poly_cy` without any cython improvement, just make its cell a cython cell."
   ]
  },
  {
   "cell_type": "markdown",
   "id": "d6867c95",
   "metadata": {},
   "source": [
    "\n"
   ]
  },
  {
   "cell_type": "markdown",
   "id": "f61e4b13",
   "metadata": {},
   "source": [
    "3. time the performance of Python and Cython version of the function, what is the factor of speed up here between the two verions."
   ]
  },
  {
   "cell_type": "code",
   "execution_count": 77,
   "id": "87efc96a",
   "metadata": {},
   "outputs": [],
   "source": [
    "%%cython \n",
    "cpdef float poly_cy(float a,float b):\n",
    "    return ( 10.5 * a + 3 * (b**2))"
   ]
  },
  {
   "cell_type": "code",
   "execution_count": 78,
   "id": "cc8a9a5c",
   "metadata": {},
   "outputs": [
    {
     "name": "stdout",
     "output_type": "stream",
     "text": [
      "98.5 ns ± 4.32 ns per loop (mean ± std. dev. of 7 runs, 10000000 loops each)\n",
      "98.5 ns ± 0.761 ns per loop (mean ± std. dev. of 7 runs, 10000000 loops each)\n"
     ]
    }
   ],
   "source": [
    "%timeit y=poly_cy(5,2)\n",
    "%timeit x= poly_cy(5,2)"
   ]
  },
  {
   "cell_type": "markdown",
   "id": "858767d2",
   "metadata": {},
   "source": [
    "4. Now lets work on another examples using loop.\n",
    "    - rewrite the same function below fib that calculate fibonacci series using cython, but now try to add type for the variables used inside it, add a prefix `_cy` to your new cython function."
   ]
  },
  {
   "cell_type": "code",
   "execution_count": 79,
   "id": "c8b0e63e",
   "metadata": {},
   "outputs": [],
   "source": [
    "def fib(n):\n",
    "    a, b = 1, 1\n",
    "    for i in range(n):\n",
    "        a, b = a + b, a\n",
    "\n",
    "    return a"
   ]
  },
  {
   "cell_type": "code",
   "execution_count": 80,
   "id": "d3bdc6e9",
   "metadata": {},
   "outputs": [],
   "source": [
    "%%cython \n",
    "cpdef int fib_cy(int n):\n",
    "    cdef int a,b,i\n",
    "    for i in range(n):\n",
    "        a,b=a+b,a\n",
    "    return a\n"
   ]
  },
  {
   "cell_type": "markdown",
   "id": "bc655156",
   "metadata": {},
   "source": [
    "- time the two function for fibonacci series, with n = 20, what is the factor of speed now, What do you think?"
   ]
  },
  {
   "cell_type": "code",
   "execution_count": 81,
   "id": "0a85ddc1",
   "metadata": {},
   "outputs": [
    {
     "name": "stdout",
     "output_type": "stream",
     "text": [
      "1.17 µs ± 105 ns per loop (mean ± std. dev. of 7 runs, 1000000 loops each)\n",
      "67.1 ns ± 4.29 ns per loop (mean ± std. dev. of 7 runs, 10000000 loops each)\n"
     ]
    }
   ],
   "source": [
    "%timeit fib(20)\n",
    "%timeit fib_cy(20)"
   ]
  },
  {
   "cell_type": "markdown",
   "id": "f480462c",
   "metadata": {},
   "source": [
    "5. Recursive functions are functions that call themselves during their execution. Another interesting property of the Fibonacci series is that it can be written as a recursive function. That’s because each item depends on the values of other items (namely item n-1 and item n-2)\n",
    "\n",
    "- Rewrite the fib function using recursion. Is it faster than the non-recursive version? Does Cythonizing it give even more of an advantage? "
   ]
  },
  {
   "cell_type": "code",
   "execution_count": 83,
   "id": "344c48d9",
   "metadata": {},
   "outputs": [],
   "source": [
    "def recur_fib(n):\n",
    "    if (n==0):\n",
    "        return 0\n",
    "    if (n==1):\n",
    "        return 1\n",
    "    return (recur_fib(n-1)+recur_fib(n-2))"
   ]
  },
  {
   "cell_type": "code",
   "execution_count": 84,
   "id": "ec7788bb",
   "metadata": {},
   "outputs": [
    {
     "name": "stdout",
     "output_type": "stream",
     "text": [
      "2.58 ms ± 318 µs per loop (mean ± std. dev. of 7 runs, 100 loops each)\n"
     ]
    }
   ],
   "source": [
    "%timeit recur_fib(20)"
   ]
  },
  {
   "attachments": {
    "image-2.png": {
     "image/png": "[encoded data removed]"
    },
    "image.png": {
     "image/png": "[encoded data removed]"
    }
   },
   "cell_type": "markdown",
   "id": "521b8016",
   "metadata": {},
   "source": [
    "### Exercise 2\n",
    "\n",
    "- Monte Carlo methods are a broad class of computational algorithms that rely on repeated random sampling to obtain numerical results. \n",
    "- One of the basic examples of getting started with the Monte Carlo algorithm is the estimation of Pi.\n",
    "\n",
    "**Estimation of Pi**\n",
    "\n",
    "- The idea is to simulate random (x, y) points in a 2-D plane with domain as a square of side 1 unit. \n",
    "- Imagine a circle inside the same domain with same diameter and inscribed into the square. \n",
    "- We then calculate the ratio of number points that lied inside the circle and total number of generated points. \n",
    "- Refer to the image below:\n",
    "\n",
    "![demo](attachment:image.png)\n",
    "\n",
    "\n",
    "We know that area of the square is 1 unit sq while that of circle is $\\pi \\ast  (\\frac{1}{2})^{2} = \\frac{\\pi}{4}$. Now for a very large number of generated points,\n",
    "![demo](attachment:image-2.png)\n",
    "\n",
    "\n",
    "\n",
    "## The Algorithm\n",
    "\n",
    "1. Initialize cile_points, square_points and interval to 0.\n",
    "2. Generate random point x.\n",
    "3. Generate random point y.\n",
    "4. Calculate d = x*x + y*y.\n",
    "5. If d <= 1, increment circle_points.\n",
    "6. Increment square_points.\n",
    "7. Increment interval.\n",
    "8. If increment < NO_OF_ITERATIONS, repeat from 2.\n",
    "9. Calculate pi = 4*(circle_points/square_points).\n",
    "10. Terminate."
   ]
  },
  {
   "cell_type": "markdown",
   "id": "0ec4be5e",
   "metadata": {},
   "source": [
    "**Your mission:** time the function `monte_carlo_pi`, identify the bottlenecks and create a new version using cython functionality to speed up monte carlo simulation for PI, use 100,000 points and compare the speed up factor between python and cython, considering the following optimizations:\n",
    "- add type for variables used.\n",
    "- add type for the function\n",
    "- use c rand function instead of python rand function.\n",
    " \n",
    "*Hint: you can import function from C libraries using the following approach `from libc.<name of c library> cimport <library function name>`, replace the holders `<>` with the right identities for the current problem*"
   ]
  },
  {
   "cell_type": "code",
   "execution_count": 16,
   "id": "9a1352d7",
   "metadata": {},
   "outputs": [
    {
     "data": {
      "text/plain": [
       "3.142184"
      ]
     },
     "execution_count": 16,
     "metadata": {},
     "output_type": "execute_result"
    }
   ],
   "source": [
    "import random\n",
    "def monte_carlo_pi(N):\n",
    "    c=0\n",
    "    pi=0\n",
    "    s=0\n",
    "    for i in range(N):\n",
    "        x=random.random()\n",
    "        y=random.random()\n",
    "        d=x**2 + y**2\n",
    "        if (d<= 1):\n",
    "            c+=1\n",
    "        s+=1\n",
    "    pi = 4*c/s\n",
    "    return pi\n",
    "monte_carlo_pi(1000000)"
   ]
  },
  {
   "cell_type": "code",
   "execution_count": 10,
   "id": "d2a58139",
   "metadata": {},
   "outputs": [
    {
     "name": "stdout",
     "output_type": "stream",
     "text": [
      "The cython extension is already loaded. To reload it, use:\n",
      "  %reload_ext cython\n"
     ]
    }
   ],
   "source": [
    "%load_ext cython"
   ]
  },
  {
   "cell_type": "code",
   "execution_count": 18,
   "id": "4f837a9e",
   "metadata": {},
   "outputs": [
    {
     "name": "stdout",
     "output_type": "stream",
     "text": [
      "3.141688108444214\n"
     ]
    }
   ],
   "source": [
    "%%cython\n",
    "from libc.stdlib cimport rand, srand, RAND_MAX\n",
    "from libc.time cimport time\n",
    "\n",
    "cpdef float monte_carlo_pi_cy(int N):\n",
    "    cdef int c=0\n",
    "    cdef int i\n",
    "    cdef float x, y, d, pi\n",
    "    cdef int s=0\n",
    "    srand(time(NULL))\n",
    "    for i in range(N):\n",
    "        x = float(rand())/float(RAND_MAX)\n",
    "        y = float(rand())/float(RAND_MAX)\n",
    "        d = x**2 + y**2\n",
    "        if d <= 1:\n",
    "            c+= 1\n",
    "        s+=1\n",
    "    pi = 4 * (c/s)\n",
    "    return pi\n",
    "    \n",
    "print(monte_carlo_pi_cy(1000000))"
   ]
  },
  {
   "cell_type": "markdown",
   "id": "22d76787",
   "metadata": {},
   "source": [
    "## Numba exercises"
   ]
  },
  {
   "cell_type": "markdown",
   "id": "235aa917",
   "metadata": {},
   "source": [
    "### Exercise 1\n",
    "\n",
    "Previously we considered how to approximateby Monte Carlo.\n",
    "\n",
    "- Use the same idea here, but make the code efficient using Numba.\n",
    "- Compare speed with and without Numba when the sample size is large."
   ]
  },
  {
   "cell_type": "code",
   "execution_count": 19,
   "id": "366fd871",
   "metadata": {},
   "outputs": [
    {
     "data": {
      "text/plain": [
       "3.139052"
      ]
     },
     "execution_count": 19,
     "metadata": {},
     "output_type": "execute_result"
    }
   ],
   "source": [
    "import random\n",
    "import numba\n",
    "from numba import jit\n",
    "@jit(nopython=True)\n",
    "def monte_carlo_pi_jit(N):\n",
    "    c=0\n",
    "    pi=0\n",
    "    s = 0\n",
    "    for i in range(N):\n",
    "        x=random.random()\n",
    "        y=random.random()\n",
    "        d=x**2 + y**2\n",
    "        if (d<= 1):\n",
    "            c+=1\n",
    "        s+=1\n",
    "    pi = 4*c/s\n",
    "    return pi\n",
    "monte_carlo_pi_jit(1000000)"
   ]
  },
  {
   "cell_type": "code",
   "execution_count": 49,
   "id": "14d26447",
   "metadata": {},
   "outputs": [
    {
     "name": "stdout",
     "output_type": "stream",
     "text": [
      "36 ms ± 3.49 ms per loop (mean ± std. dev. of 7 runs, 10 loops each)\n",
      "997 µs ± 15 µs per loop (mean ± std. dev. of 7 runs, 1000 loops each)\n"
     ]
    }
   ],
   "source": [
    "%timeit monte_carlo_pi(100000)\n",
    "%timeit monte_carlo_pi_jit(100000)"
   ]
  },
  {
   "cell_type": "markdown",
   "id": "01f0e01f",
   "metadata": {},
   "source": [
    "### Exercise 2\n",
    "\n",
    "In the [Introduction to Quantitative Economics](https://python.quantecon.org/intro.html) with Python lecture series you can learn all about finite-state Markov chains.\n",
    "\n",
    "For now, let's just concentrate on simulating a very simple example of such a chain.\n",
    "\n",
    "Suppose that the volatility of returns on an asset can be in one of two regimes — high or low.\n",
    "\n",
    "The transition probabilities across states are as follows ![markovh](../data/markov.png)\n",
    "\n",
    "For example, let the period length be one day, and suppose the current state is high.\n",
    "\n",
    "We see from the graph that the state tomorrow will be\n",
    "\n",
    "- high with probability 0.8\n",
    "\n",
    "- low with probability 0.2\n",
    "\n",
    "Your task is to simulate a sequence of daily volatility states according to this rule.\n",
    "\n",
    "Set the length of the sequence to `n = 1_000_000` and start in the high state.\n",
    "\n",
    "Implement a pure Python version and a Numba version, and compare speeds.\n",
    "\n",
    "To test your code, evaluate the fraction of time that the chain spends in the low state.\n",
    "\n",
    "If your code is correct, it should be about 2/3.\n",
    "\n",
    "Hints:\n",
    "\n",
    "- Represent the low state as 0 and the high state as 1.\n",
    "\n",
    "- If you want to store integers in a NumPy array and then apply JIT compilation, use `x = np.empty(n, dtype=np.int_)`.\n"
   ]
  },
  {
   "cell_type": "code",
   "execution_count": 6,
   "id": "7f81d030",
   "metadata": {},
   "outputs": [
    {
     "name": "stdout",
     "output_type": "stream",
     "text": [
      "[1 1 1 ... 0 0 0]\n",
      "0.894826\n",
      "605 ms ± 16.2 ms per loop (mean ± std. dev. of 7 runs, 1 loop each)\n"
     ]
    }
   ],
   "source": [
    "import random\n",
    "import numpy as np\n",
    "low_to_high = 0.1\n",
    "high_to_low = 0.2\n",
    "\n",
    "def seq(n):\n",
    "    x = np.empty(n, dtype = np.int_)\n",
    "    y = np.random.uniform(0, 1, size = n)\n",
    "    x[0] = 1\n",
    "    for i in range(0, n):\n",
    "        if(x[i] == 0):\n",
    "            x[i] = y[i] < low_to_high\n",
    "        else:\n",
    "            x[i] = y[i] > high_to_low\n",
    "    return x\n",
    "\n",
    "x=seq(1000000)\n",
    "print(x)\n",
    "print(np.mean(x == 0)) \n",
    "%timeit seq(1000000) "
   ]
  },
  {
   "cell_type": "code",
   "execution_count": 120,
   "id": "10d85019",
   "metadata": {},
   "outputs": [
    {
     "name": "stdout",
     "output_type": "stream",
     "text": [
      "13.6 ms ± 777 µs per loop (mean ± std. dev. of 7 runs, 100 loops each)\n"
     ]
    }
   ],
   "source": [
    "import numba\n",
    "import random\n",
    "import numpy as np\n",
    "from numba import jit\n",
    "\n",
    "low_to_high = 0.1\n",
    "high_to_low = 0.2\n",
    "\n",
    "@jit(nopython = True)\n",
    "def seq_jit(n):\n",
    "    x = np.empty(n, dtype = np.int_)\n",
    "    y = np.random.uniform(0, 1, size = n)\n",
    "    x[0] = 1\n",
    "    for i in range(1, n):\n",
    "        if(x[i-1] == 0):\n",
    "            x[i] = y[i] < low_to_high\n",
    "        else:\n",
    "            x[i] = y[i] > high_to_low\n",
    "    return x\n",
    "%timeit seq_jit(1000000)"
   ]
  },
  {
   "cell_type": "markdown",
   "id": "4c312a90",
   "metadata": {},
   "source": [
    "## Additionnal exercice"
   ]
  },
  {
   "cell_type": "markdown",
   "id": "04ddd73b",
   "metadata": {},
   "source": []
  }
 ],
 "metadata": {
  "hide_input": false,
  "kernelspec": {
   "display_name": "Python 3 (ipykernel)",
   "language": "python",
   "name": "python3"
  },
  "language_info": {
   "codemirror_mode": {
    "name": "ipython",
    "version": 3
   },
   "file_extension": ".py",
   "mimetype": "text/x-python",
   "name": "python",
   "nbconvert_exporter": "python",
   "pygments_lexer": "ipython3",
   "version": "3.8.10"
  }
 },
 "nbformat": 4,
 "nbformat_minor": 5
}
