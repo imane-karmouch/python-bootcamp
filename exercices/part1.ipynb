{
 "cells": [
  {
   "cell_type": "markdown",
   "id": "cddcf216",
   "metadata": {},
   "source": [
    "### Exercice 1:"
   ]
  },
  {
   "cell_type": "markdown",
   "id": "faf96af7",
   "metadata": {},
   "source": [
    "Write a function that takes a string, and two indexes (integers), and returns a slice of that string as well as the length of the string.\n",
    "Call the function, and store the results in two variables"
   ]
  },
  {
   "cell_type": "code",
   "execution_count": 1,
   "id": "f90b336f",
   "metadata": {},
   "outputs": [
    {
     "name": "stdout",
     "output_type": "stream",
     "text": [
      "4\n",
      "[33, 44]\n",
      "5\n",
      "['a', 'n', 'e']\n",
      "11\n",
      "['l', 'l', 'o']\n"
     ]
    }
   ],
   "source": [
    "def slice(X,i,j):\n",
    "    L=[]\n",
    "    n=len(X)\n",
    "    print(n)\n",
    "    for k in range(i,j+1):\n",
    "        L.append(X[k])\n",
    "    print (L)\n",
    "    \n",
    "slice([11,22,33,44],2,3)\n",
    "slice ('imane',2,4)\n",
    "slice ('hello world',2,4)"
   ]
  },
  {
   "cell_type": "markdown",
   "id": "f7825097",
   "metadata": {},
   "source": [
    "### Exercice 2:"
   ]
  },
  {
   "cell_type": "markdown",
   "id": "fa592f19",
   "metadata": {},
   "source": [
    "1. Write a function that takes two arguments, and returns the sum of the two.\n",
    "2. Call the function with the values 1 and 2.1, then check the type of the result.\n",
    "3. Call the function with the values False and 2, then check the type of the result."
   ]
  },
  {
   "cell_type": "code",
   "execution_count": 4,
   "id": "4ec3aafa",
   "metadata": {},
   "outputs": [
    {
     "name": "stdout",
     "output_type": "stream",
     "text": [
      "3.1\n",
      "2\n"
     ]
    },
    {
     "data": {
      "text/plain": [
       "int"
      ]
     },
     "execution_count": 4,
     "metadata": {},
     "output_type": "execute_result"
    }
   ],
   "source": [
    "def sum(m,n):\n",
    "    return m+n\n",
    "print(sum(1,2.1))\n",
    "type(sum(1,2.1))\n",
    "print(sum(False,2))\n",
    "type(sum(False,2))\n",
    "    "
   ]
  },
  {
   "cell_type": "markdown",
   "id": "885a0960",
   "metadata": {},
   "source": [
    "### Exercice 3:"
   ]
  },
  {
   "cell_type": "markdown",
   "id": "c4275450",
   "metadata": {},
   "source": [
    "Write a function that takes a string and returns a dictionary containing character frequency.\n",
    "\n",
    "*example*\n",
    "\n",
    "    string sample: 'test'\n",
    "    \n",
    "    expected result: {'t':2, 'e':1, 's':1}"
   ]
  },
  {
   "cell_type": "code",
   "execution_count": 17,
   "id": "1a56e48b",
   "metadata": {},
   "outputs": [
    {
     "name": "stdout",
     "output_type": "stream",
     "text": [
      "{'t': 2, 'e': 1, 's': 1}\n"
     ]
    }
   ],
   "source": [
    "def dictionary(string):\n",
    "    Dict = {}\n",
    "    for i in string:\n",
    "        if i in Dict:\n",
    "            Dict[i] += 1\n",
    "        else:\n",
    "            Dict[i] = 1\n",
    "    print (Dict)\n",
    "\n",
    "dictionary('test')\n",
    "\n"
   ]
  },
  {
   "cell_type": "markdown",
   "id": "4b8f2c1a",
   "metadata": {},
   "source": [
    "### Exercice 4:"
   ]
  },
  {
   "cell_type": "markdown",
   "id": "24166f03",
   "metadata": {},
   "source": [
    "Given two lists, iterate both lists simultaniously, such the first list would display item in original order and the second list in reverse order\n",
    "\n",
    "*example*:"
   ]
  },
  {
   "cell_type": "code",
   "execution_count": 3,
   "id": "37f5b151",
   "metadata": {},
   "outputs": [
    {
     "name": "stdout",
     "output_type": "stream",
     "text": [
      "1 3\n",
      "2 2\n",
      "3 1\n"
     ]
    }
   ],
   "source": [
    "from lib import print_orl #this is a lib you dont have access to\n",
    "print_orl([1,2,3],[1,2,3])"
   ]
  },
  {
   "cell_type": "code",
   "execution_count": 2,
   "id": "b4aa7f5c",
   "metadata": {},
   "outputs": [
    {
     "name": "stdout",
     "output_type": "stream",
     "text": [
      "1  3\n",
      "2  2\n",
      "3  1\n"
     ]
    }
   ],
   "source": [
    "def reverse(L):\n",
    "    n=len(L)\n",
    "    for i in range (0,n):\n",
    "        print (L[i],'',L[n-i-1])\n",
    "reverse([1,2,3])"
   ]
  },
  {
   "cell_type": "markdown",
   "id": "e8157108",
   "metadata": {},
   "source": [
    "### Exercice 5:"
   ]
  },
  {
   "cell_type": "markdown",
   "id": "ac5b6f9d",
   "metadata": {},
   "source": [
    "Given two 2d arrays, stack them horizontally.\n",
    "\n",
    "*example:*"
   ]
  },
  {
   "cell_type": "code",
   "execution_count": 15,
   "id": "c31b3aea",
   "metadata": {},
   "outputs": [
    {
     "name": "stdout",
     "output_type": "stream",
     "text": [
      "[[1. 1. 1. 1. 1.]\n",
      " [1. 1. 1. 1. 1.]]\n",
      "[[0. 0. 0. 0. 0.]\n",
      " [0. 0. 0. 0. 0.]]\n"
     ]
    },
    {
     "data": {
      "text/plain": [
       "array([[1., 1., 1., 1., 1., 0., 0., 0., 0., 0.],\n",
       "       [1., 1., 1., 1., 1., 0., 0., 0., 0., 0.]])"
      ]
     },
     "execution_count": 15,
     "metadata": {},
     "output_type": "execute_result"
    }
   ],
   "source": [
    "import numpy as np\n",
    "\n",
    "#The input\n",
    "a = np.ones((1, 10)).reshape(2, -1)\n",
    "b = np.zeros((1, 10)).reshape(2, -1)\n",
    "\n",
    "#Try to print input\n",
    "\n",
    "print(a)\n",
    "print(b)\n",
    "\n",
    "#concatenate horizontally\n",
    "\n",
    "def concat(a,b):\n",
    "    C=np.zeros((1,20)).reshape(2,-1)\n",
    "    k=0\n",
    "    for i in range(5):\n",
    "        C[k][i]=a[k][i]\n",
    "        C[k][i+5]=b[k][i]\n",
    "    k=1\n",
    "    for j in range(5):\n",
    "        C[k][j]=a[k][j]\n",
    "        C[k][j+5]=b[k][j]\n",
    "    return C\n",
    "concat(a,b)\n",
    "#output shoul look like:     array([[1., 1., 1., 1., 1., 0., 0., 0., 0., 0.],\n",
    "#                                   [1., 1., 1., 1., 1., 0., 0., 0., 0., 0.]])\n",
    "\n",
    "\n",
    "\n"
   ]
  },
  {
   "cell_type": "markdown",
   "id": "320194de",
   "metadata": {},
   "source": [
    "### exercice 6:"
   ]
  },
  {
   "cell_type": "markdown",
   "id": "a937fe80",
   "metadata": {},
   "source": [
    "Create the following patterns using the bellow arrays a and b, and numpy functions:"
   ]
  },
  {
   "cell_type": "code",
   "execution_count": 46,
   "id": "97c0508a",
   "metadata": {},
   "outputs": [
    {
     "name": "stdout",
     "output_type": "stream",
     "text": [
      "[0 1 2]\n",
      "[[[1. 1. 1.]\n",
      "  [1. 1. 1.]\n",
      "  [1. 1. 1.]]\n",
      "\n",
      " [[1. 1. 1.]\n",
      "  [1. 1. 1.]\n",
      "  [1. 1. 1.]]\n",
      "\n",
      " [[1. 1. 1.]\n",
      "  [1. 1. 1.]\n",
      "  [1. 1. 1.]]]\n",
      "output1\n",
      "[0, 0, 0, 1, 1, 1, 2, 2, 2, 0, 1, 2, 0, 1, 2, 0, 1, 2]\n",
      "output2\n",
      "[[[1. 2. 3.]\n",
      "  [1. 2. 3.]\n",
      "  [1. 2. 3.]]\n",
      "\n",
      " [[1. 2. 3.]\n",
      "  [1. 2. 3.]\n",
      "  [1. 2. 3.]]\n",
      "\n",
      " [[1. 2. 3.]\n",
      "  [1. 2. 3.]\n",
      "  [1. 2. 3.]]]\n",
      "output3\n",
      "[[1. 1. 1. 1. 1. 1. 1. 1. 1.]\n",
      " [1. 1. 1. 1. 1. 1. 1. 1. 1.]\n",
      " [1. 1. 1. 1. 1. 1. 1. 1. 1.]]\n"
     ]
    }
   ],
   "source": [
    "import numpy as np\n",
    "a = np.arange(3)\n",
    "b = np.ones((3,3,3))\n",
    "print(a)\n",
    "print(b)\n",
    "\n",
    "#output1 the following array: array([0, 0, 0, 1, 1, 1, 2, 2, 2, 0, 1, 2, 0, 1, 2, 0, 1, 2])\n",
    "\n",
    "print('output1')\n",
    "c=[]\n",
    "for i in range(3):\n",
    "    c.append(0)\n",
    "for i in range(3):\n",
    "    c.append(1)\n",
    "for i in range(3):\n",
    "    c.append(2)\n",
    "for i in range (3):\n",
    "    for k in range(3):\n",
    "        c.append(a[k])     \n",
    "print(c)\n",
    "\n",
    "\n",
    "#output2 the follwing array: array([[[1., 2., 3.],\n",
    "#                                    [1., 2., 3.],\n",
    "#                                    [1., 2., 3.]],\n",
    "\n",
    "#                                    [[1., 2., 3.],\n",
    "#                                    [1., 2., 3.],\n",
    "#                                    [1., 2., 3.]],\n",
    "\n",
    "#                                    [[1., 2., 3.],\n",
    "#                                    [1., 2., 3.],\n",
    "#                                    [1., 2., 3.]]])\n",
    "print('output2')\n",
    "d=np.ones((3,3,3))\n",
    "for i in range (3):\n",
    "    for j in range(3):\n",
    "        k = 1\n",
    "        d[i][j][k] = d[i][j][k] + 1\n",
    "        k = 2\n",
    "        d[i][j][k] = d[i][j][k] + 2\n",
    "print(d)\n",
    "#output3 array([[1., 1., 1., 1., 1., 1., 1., 1., 1.],\n",
    "#                [1., 1., 1., 1., 1., 1., 1., 1., 1.],\n",
    "#                [1., 1., 1., 1., 1., 1., 1., 1., 1.]])\n",
    "print('output3')\n",
    "b=b.reshape(3,9)\n",
    "print(b)\n"
   ]
  },
  {
   "cell_type": "code",
   "execution_count": null,
   "id": "d4adf4ad",
   "metadata": {},
   "outputs": [],
   "source": []
  }
 ],
 "metadata": {
  "kernelspec": {
   "display_name": "Python 3 (ipykernel)",
   "language": "python",
   "name": "python3"
  },
  "language_info": {
   "codemirror_mode": {
    "name": "ipython",
    "version": 3
   },
   "file_extension": ".py",
   "mimetype": "text/x-python",
   "name": "python",
   "nbconvert_exporter": "python",
   "pygments_lexer": "ipython3",
   "version": "3.8.10"
  }
 },
 "nbformat": 4,
 "nbformat_minor": 5
}
